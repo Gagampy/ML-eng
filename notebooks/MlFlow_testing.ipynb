{
 "cells": [
  {
   "cell_type": "code",
   "execution_count": 7,
   "metadata": {},
   "outputs": [
    {
     "name": "stderr",
     "output_type": "stream",
     "text": [
      "/home/gagampy/anaconda3/lib/python3.7/site-packages/ipykernel/ipkernel.py:287: DeprecationWarning: `should_run_async` will not call `transform_cell` automatically in the future. Please pass the result to `transformed_cell` argument and any exception that happen during thetransform in `preprocessing_exc_tuple` in IPython 7.17 and above.\n",
      "  and should_run_async(code)\n"
     ]
    }
   ],
   "source": [
    "from sklearn.linear_model import Lasso\n",
    "import mlflow\n",
    "from mlflow import sklearn \n",
    "from urllib.parse import urlparse\n",
    "import numpy as np"
   ]
  },
  {
   "cell_type": "code",
   "execution_count": 58,
   "metadata": {},
   "outputs": [
    {
     "name": "stderr",
     "output_type": "stream",
     "text": [
      "/home/gagampy/anaconda3/lib/python3.7/site-packages/ipykernel/ipkernel.py:287: DeprecationWarning: `should_run_async` will not call `transform_cell` automatically in the future. Please pass the result to `transformed_cell` argument and any exception that happen during thetransform in `preprocessing_exc_tuple` in IPython 7.17 and above.\n",
      "  and should_run_async(code)\n"
     ]
    }
   ],
   "source": [
    "mlflow.set_tracking_uri('http://localhost:5001')\n",
    "mlflow.set_experiment('mlflow-testing')\n",
    "\n",
    "with mlflow.start_run(run_name=\"lasso\") as run:\n",
    "    mlflow.log_metrics({'m1': np.random.randint(0, 10), 'm2': np.random.randint(10, 20)})\n",
    "    mlflow.log_params({'p1': np.random.randint(0, 10), 'p2': np.random.randint(10, 20)})\n"
   ]
  },
  {
   "cell_type": "code",
   "execution_count": 59,
   "metadata": {},
   "outputs": [
    {
     "data": {
      "text/plain": [
       "'Lasso'"
      ]
     },
     "execution_count": 59,
     "metadata": {},
     "output_type": "execute_result"
    }
   ],
   "source": [
    "Lasso().__class__.__name__"
   ]
  },
  {
   "cell_type": "code",
   "execution_count": 60,
   "metadata": {},
   "outputs": [],
   "source": [
    "runs_df = mlflow.search_runs(4)"
   ]
  },
  {
   "cell_type": "code",
   "execution_count": 65,
   "metadata": {},
   "outputs": [
    {
     "data": {
      "text/plain": [
       "{'params.p1': None, 'params.p2': None}"
      ]
     },
     "execution_count": 65,
     "metadata": {},
     "output_type": "execute_result"
    }
   ],
   "source": [
    "runs_df.iloc[runs_df['metrics.m1'].idxmin()][['params.p1', 'params.p2']].to_dict()"
   ]
  },
  {
   "cell_type": "code",
   "execution_count": 57,
   "metadata": {},
   "outputs": [
    {
     "name": "stderr",
     "output_type": "stream",
     "text": [
      "/home/gagampy/anaconda3/lib/python3.7/site-packages/ipykernel/ipkernel.py:287: DeprecationWarning: `should_run_async` will not call `transform_cell` automatically in the future. Please pass the result to `transformed_cell` argument and any exception that happen during thetransform in `preprocessing_exc_tuple` in IPython 7.17 and above.\n",
      "  and should_run_async(code)\n"
     ]
    },
    {
     "data": {
      "text/html": [
       "<div>\n",
       "<style scoped>\n",
       "    .dataframe tbody tr th:only-of-type {\n",
       "        vertical-align: middle;\n",
       "    }\n",
       "\n",
       "    .dataframe tbody tr th {\n",
       "        vertical-align: top;\n",
       "    }\n",
       "\n",
       "    .dataframe thead th {\n",
       "        text-align: right;\n",
       "    }\n",
       "</style>\n",
       "<table border=\"1\" class=\"dataframe\">\n",
       "  <thead>\n",
       "    <tr style=\"text-align: right;\">\n",
       "      <th></th>\n",
       "      <th>run_id</th>\n",
       "      <th>experiment_id</th>\n",
       "      <th>status</th>\n",
       "      <th>artifact_uri</th>\n",
       "      <th>start_time</th>\n",
       "      <th>end_time</th>\n",
       "      <th>metrics.m2</th>\n",
       "      <th>metrics.m1</th>\n",
       "      <th>tags.mlflow.source.name</th>\n",
       "      <th>tags.mlflow.user</th>\n",
       "      <th>tags.mlflow.source.type</th>\n",
       "      <th>tags.mlflow.runName</th>\n",
       "      <th>tags.mlflow.log-model.history</th>\n",
       "    </tr>\n",
       "  </thead>\n",
       "  <tbody>\n",
       "    <tr>\n",
       "      <th>0</th>\n",
       "      <td>1b331c00d1e9465a87539768605842fb</td>\n",
       "      <td>4</td>\n",
       "      <td>FINISHED</td>\n",
       "      <td>./mlruns/4/1b331c00d1e9465a87539768605842fb/ar...</td>\n",
       "      <td>2020-08-30 14:28:46.237000+00:00</td>\n",
       "      <td>2020-08-30 14:28:46.248000+00:00</td>\n",
       "      <td>16.0</td>\n",
       "      <td>3.0</td>\n",
       "      <td>/home/gagampy/anaconda3/lib/python3.7/site-pac...</td>\n",
       "      <td>gagampy</td>\n",
       "      <td>LOCAL</td>\n",
       "      <td>lasso</td>\n",
       "      <td>None</td>\n",
       "    </tr>\n",
       "    <tr>\n",
       "      <th>1</th>\n",
       "      <td>d4583266f46c4268883d931477d4acc2</td>\n",
       "      <td>4</td>\n",
       "      <td>FAILED</td>\n",
       "      <td>./mlruns/4/d4583266f46c4268883d931477d4acc2/ar...</td>\n",
       "      <td>2020-08-30 14:27:27.900000+00:00</td>\n",
       "      <td>2020-08-30 14:27:27.931000+00:00</td>\n",
       "      <td>16.0</td>\n",
       "      <td>4.0</td>\n",
       "      <td>/home/gagampy/anaconda3/lib/python3.7/site-pac...</td>\n",
       "      <td>gagampy</td>\n",
       "      <td>LOCAL</td>\n",
       "      <td>lasso</td>\n",
       "      <td>[{\"run_id\": \"d4583266f46c4268883d931477d4acc2\"...</td>\n",
       "    </tr>\n",
       "    <tr>\n",
       "      <th>2</th>\n",
       "      <td>9c4c34cb7d584577b33460bba968fc2b</td>\n",
       "      <td>4</td>\n",
       "      <td>FINISHED</td>\n",
       "      <td>./mlruns/4/9c4c34cb7d584577b33460bba968fc2b/ar...</td>\n",
       "      <td>2020-08-30 14:26:43.024000+00:00</td>\n",
       "      <td>2020-08-30 14:26:43.047000+00:00</td>\n",
       "      <td>10.0</td>\n",
       "      <td>9.0</td>\n",
       "      <td>/home/gagampy/anaconda3/lib/python3.7/site-pac...</td>\n",
       "      <td>gagampy</td>\n",
       "      <td>LOCAL</td>\n",
       "      <td>lasso</td>\n",
       "      <td>[{\"run_id\": \"9c4c34cb7d584577b33460bba968fc2b\"...</td>\n",
       "    </tr>\n",
       "    <tr>\n",
       "      <th>3</th>\n",
       "      <td>8f94aae0244948dd921d550139109244</td>\n",
       "      <td>4</td>\n",
       "      <td>FAILED</td>\n",
       "      <td>./mlruns/4/8f94aae0244948dd921d550139109244/ar...</td>\n",
       "      <td>2020-08-30 14:26:28.632000+00:00</td>\n",
       "      <td>2020-08-30 14:26:28.639000+00:00</td>\n",
       "      <td>NaN</td>\n",
       "      <td>NaN</td>\n",
       "      <td>/home/gagampy/anaconda3/lib/python3.7/site-pac...</td>\n",
       "      <td>gagampy</td>\n",
       "      <td>LOCAL</td>\n",
       "      <td>lasso</td>\n",
       "      <td>None</td>\n",
       "    </tr>\n",
       "    <tr>\n",
       "      <th>4</th>\n",
       "      <td>4892fa543aab4eb097ac61ac68fb75e6</td>\n",
       "      <td>4</td>\n",
       "      <td>FAILED</td>\n",
       "      <td>./mlruns/4/4892fa543aab4eb097ac61ac68fb75e6/ar...</td>\n",
       "      <td>2020-08-30 14:26:24.365000+00:00</td>\n",
       "      <td>2020-08-30 14:26:24.372000+00:00</td>\n",
       "      <td>NaN</td>\n",
       "      <td>NaN</td>\n",
       "      <td>/home/gagampy/anaconda3/lib/python3.7/site-pac...</td>\n",
       "      <td>gagampy</td>\n",
       "      <td>LOCAL</td>\n",
       "      <td>lasso</td>\n",
       "      <td>None</td>\n",
       "    </tr>\n",
       "    <tr>\n",
       "      <th>5</th>\n",
       "      <td>52351b2506bb490894feef93f771e866</td>\n",
       "      <td>4</td>\n",
       "      <td>FAILED</td>\n",
       "      <td>./mlruns/4/52351b2506bb490894feef93f771e866/ar...</td>\n",
       "      <td>2020-08-30 14:26:12.900000+00:00</td>\n",
       "      <td>2020-08-30 14:26:12.908000+00:00</td>\n",
       "      <td>NaN</td>\n",
       "      <td>NaN</td>\n",
       "      <td>/home/gagampy/anaconda3/lib/python3.7/site-pac...</td>\n",
       "      <td>gagampy</td>\n",
       "      <td>LOCAL</td>\n",
       "      <td>lasso</td>\n",
       "      <td>None</td>\n",
       "    </tr>\n",
       "    <tr>\n",
       "      <th>6</th>\n",
       "      <td>f393f7a49ed2449b800455c959f3c1f0</td>\n",
       "      <td>4</td>\n",
       "      <td>FAILED</td>\n",
       "      <td>./mlruns/4/f393f7a49ed2449b800455c959f3c1f0/ar...</td>\n",
       "      <td>2020-08-30 14:26:07.404000+00:00</td>\n",
       "      <td>2020-08-30 14:26:07.413000+00:00</td>\n",
       "      <td>NaN</td>\n",
       "      <td>NaN</td>\n",
       "      <td>/home/gagampy/anaconda3/lib/python3.7/site-pac...</td>\n",
       "      <td>gagampy</td>\n",
       "      <td>LOCAL</td>\n",
       "      <td>lasso</td>\n",
       "      <td>None</td>\n",
       "    </tr>\n",
       "    <tr>\n",
       "      <th>7</th>\n",
       "      <td>a57c9ee82d7a432cbc23121efb4decae</td>\n",
       "      <td>4</td>\n",
       "      <td>FINISHED</td>\n",
       "      <td>./mlruns/4/a57c9ee82d7a432cbc23121efb4decae/ar...</td>\n",
       "      <td>2020-08-30 14:24:57+00:00</td>\n",
       "      <td>2020-08-30 14:24:57.020000+00:00</td>\n",
       "      <td>NaN</td>\n",
       "      <td>NaN</td>\n",
       "      <td>/home/gagampy/anaconda3/lib/python3.7/site-pac...</td>\n",
       "      <td>gagampy</td>\n",
       "      <td>LOCAL</td>\n",
       "      <td>lasso</td>\n",
       "      <td>[{\"run_id\": \"a57c9ee82d7a432cbc23121efb4decae\"...</td>\n",
       "    </tr>\n",
       "  </tbody>\n",
       "</table>\n",
       "</div>"
      ],
      "text/plain": [
       "                             run_id experiment_id    status  \\\n",
       "0  1b331c00d1e9465a87539768605842fb             4  FINISHED   \n",
       "1  d4583266f46c4268883d931477d4acc2             4    FAILED   \n",
       "2  9c4c34cb7d584577b33460bba968fc2b             4  FINISHED   \n",
       "3  8f94aae0244948dd921d550139109244             4    FAILED   \n",
       "4  4892fa543aab4eb097ac61ac68fb75e6             4    FAILED   \n",
       "5  52351b2506bb490894feef93f771e866             4    FAILED   \n",
       "6  f393f7a49ed2449b800455c959f3c1f0             4    FAILED   \n",
       "7  a57c9ee82d7a432cbc23121efb4decae             4  FINISHED   \n",
       "\n",
       "                                        artifact_uri  \\\n",
       "0  ./mlruns/4/1b331c00d1e9465a87539768605842fb/ar...   \n",
       "1  ./mlruns/4/d4583266f46c4268883d931477d4acc2/ar...   \n",
       "2  ./mlruns/4/9c4c34cb7d584577b33460bba968fc2b/ar...   \n",
       "3  ./mlruns/4/8f94aae0244948dd921d550139109244/ar...   \n",
       "4  ./mlruns/4/4892fa543aab4eb097ac61ac68fb75e6/ar...   \n",
       "5  ./mlruns/4/52351b2506bb490894feef93f771e866/ar...   \n",
       "6  ./mlruns/4/f393f7a49ed2449b800455c959f3c1f0/ar...   \n",
       "7  ./mlruns/4/a57c9ee82d7a432cbc23121efb4decae/ar...   \n",
       "\n",
       "                        start_time                         end_time  \\\n",
       "0 2020-08-30 14:28:46.237000+00:00 2020-08-30 14:28:46.248000+00:00   \n",
       "1 2020-08-30 14:27:27.900000+00:00 2020-08-30 14:27:27.931000+00:00   \n",
       "2 2020-08-30 14:26:43.024000+00:00 2020-08-30 14:26:43.047000+00:00   \n",
       "3 2020-08-30 14:26:28.632000+00:00 2020-08-30 14:26:28.639000+00:00   \n",
       "4 2020-08-30 14:26:24.365000+00:00 2020-08-30 14:26:24.372000+00:00   \n",
       "5 2020-08-30 14:26:12.900000+00:00 2020-08-30 14:26:12.908000+00:00   \n",
       "6 2020-08-30 14:26:07.404000+00:00 2020-08-30 14:26:07.413000+00:00   \n",
       "7        2020-08-30 14:24:57+00:00 2020-08-30 14:24:57.020000+00:00   \n",
       "\n",
       "   metrics.m2  metrics.m1                            tags.mlflow.source.name  \\\n",
       "0        16.0         3.0  /home/gagampy/anaconda3/lib/python3.7/site-pac...   \n",
       "1        16.0         4.0  /home/gagampy/anaconda3/lib/python3.7/site-pac...   \n",
       "2        10.0         9.0  /home/gagampy/anaconda3/lib/python3.7/site-pac...   \n",
       "3         NaN         NaN  /home/gagampy/anaconda3/lib/python3.7/site-pac...   \n",
       "4         NaN         NaN  /home/gagampy/anaconda3/lib/python3.7/site-pac...   \n",
       "5         NaN         NaN  /home/gagampy/anaconda3/lib/python3.7/site-pac...   \n",
       "6         NaN         NaN  /home/gagampy/anaconda3/lib/python3.7/site-pac...   \n",
       "7         NaN         NaN  /home/gagampy/anaconda3/lib/python3.7/site-pac...   \n",
       "\n",
       "  tags.mlflow.user tags.mlflow.source.type tags.mlflow.runName  \\\n",
       "0          gagampy                   LOCAL               lasso   \n",
       "1          gagampy                   LOCAL               lasso   \n",
       "2          gagampy                   LOCAL               lasso   \n",
       "3          gagampy                   LOCAL               lasso   \n",
       "4          gagampy                   LOCAL               lasso   \n",
       "5          gagampy                   LOCAL               lasso   \n",
       "6          gagampy                   LOCAL               lasso   \n",
       "7          gagampy                   LOCAL               lasso   \n",
       "\n",
       "                       tags.mlflow.log-model.history  \n",
       "0                                               None  \n",
       "1  [{\"run_id\": \"d4583266f46c4268883d931477d4acc2\"...  \n",
       "2  [{\"run_id\": \"9c4c34cb7d584577b33460bba968fc2b\"...  \n",
       "3                                               None  \n",
       "4                                               None  \n",
       "5                                               None  \n",
       "6                                               None  \n",
       "7  [{\"run_id\": \"a57c9ee82d7a432cbc23121efb4decae\"...  "
      ]
     },
     "execution_count": 57,
     "metadata": {},
     "output_type": "execute_result"
    }
   ],
   "source": [
    "runs_df.loc[runs_df['tags.mlflow.runName']=='lasso']"
   ]
  },
  {
   "cell_type": "code",
   "execution_count": 39,
   "metadata": {},
   "outputs": [
    {
     "name": "stderr",
     "output_type": "stream",
     "text": [
      "/home/gagampy/anaconda3/lib/python3.7/site-packages/ipykernel/ipkernel.py:287: DeprecationWarning: `should_run_async` will not call `transform_cell` automatically in the future. Please pass the result to `transformed_cell` argument and any exception that happen during thetransform in `preprocessing_exc_tuple` in IPython 7.17 and above.\n",
      "  and should_run_async(code)\n"
     ]
    }
   ],
   "source": [
    "from  mlflow.tracking import MlflowClient\n",
    "client = MlflowClient()"
   ]
  },
  {
   "cell_type": "code",
   "execution_count": 44,
   "metadata": {},
   "outputs": [
    {
     "data": {
      "text/plain": [
       "'4'"
      ]
     },
     "execution_count": 44,
     "metadata": {},
     "output_type": "execute_result"
    }
   ],
   "source": [
    "client.list_experiments()[0].experiment_id"
   ]
  },
  {
   "cell_type": "code",
   "execution_count": null,
   "metadata": {},
   "outputs": [],
   "source": []
  }
 ],
 "metadata": {
  "kernelspec": {
   "display_name": "Python 3",
   "language": "python",
   "name": "python3"
  },
  "language_info": {
   "codemirror_mode": {
    "name": "ipython",
    "version": 3
   },
   "file_extension": ".py",
   "mimetype": "text/x-python",
   "name": "python",
   "nbconvert_exporter": "python",
   "pygments_lexer": "ipython3",
   "version": "3.7.8"
  }
 },
 "nbformat": 4,
 "nbformat_minor": 4
}
