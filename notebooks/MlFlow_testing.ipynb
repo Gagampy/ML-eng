{
 "cells": [
  {
   "cell_type": "code",
   "execution_count": 1,
   "metadata": {},
   "outputs": [],
   "source": [
    "from sklearn.linear_model import Lasso\n",
    "import mlflow\n",
    "from mlflow import sklearn \n",
    "from urllib.parse import urlparse\n",
    "import numpy as np"
   ]
  },
  {
   "cell_type": "markdown",
   "metadata": {},
   "source": [
    "## Custom experiment:"
   ]
  },
  {
   "cell_type": "code",
   "execution_count": 2,
   "metadata": {},
   "outputs": [
    {
     "name": "stderr",
     "output_type": "stream",
     "text": [
      "/home/gagampy/anaconda3/lib/python3.7/site-packages/ipykernel/ipkernel.py:287: DeprecationWarning: `should_run_async` will not call `transform_cell` automatically in the future. Please pass the result to `transformed_cell` argument and any exception that happen during thetransform in `preprocessing_exc_tuple` in IPython 7.17 and above.\n",
      "  and should_run_async(code)\n"
     ]
    }
   ],
   "source": [
    "mlflow.set_tracking_uri('http://localhost:5000')"
   ]
  },
  {
   "cell_type": "code",
   "execution_count": 2,
   "metadata": {},
   "outputs": [
    {
     "name": "stdout",
     "output_type": "stream",
     "text": [
      "INFO: 'mlflow-testing-2' does not exist. Creating a new experiment\n"
     ]
    },
    {
     "name": "stderr",
     "output_type": "stream",
     "text": [
      "/home/gagampy/anaconda3/lib/python3.7/site-packages/ipykernel/ipkernel.py:287: DeprecationWarning: `should_run_async` will not call `transform_cell` automatically in the future. Please pass the result to `transformed_cell` argument and any exception that happen during thetransform in `preprocessing_exc_tuple` in IPython 7.17 and above.\n",
      "  and should_run_async(code)\n"
     ]
    },
    {
     "data": {
      "text/html": [
       "<div>\n",
       "<style scoped>\n",
       "    .dataframe tbody tr th:only-of-type {\n",
       "        vertical-align: middle;\n",
       "    }\n",
       "\n",
       "    .dataframe tbody tr th {\n",
       "        vertical-align: top;\n",
       "    }\n",
       "\n",
       "    .dataframe thead th {\n",
       "        text-align: right;\n",
       "    }\n",
       "</style>\n",
       "<table border=\"1\" class=\"dataframe\">\n",
       "  <thead>\n",
       "    <tr style=\"text-align: right;\">\n",
       "      <th></th>\n",
       "      <th>run_id</th>\n",
       "      <th>experiment_id</th>\n",
       "      <th>status</th>\n",
       "      <th>artifact_uri</th>\n",
       "      <th>start_time</th>\n",
       "      <th>end_time</th>\n",
       "      <th>metrics.m1</th>\n",
       "      <th>metrics.m2</th>\n",
       "      <th>params.p1</th>\n",
       "      <th>params.p2</th>\n",
       "      <th>tags.mlflow.source.type</th>\n",
       "      <th>tags.mlflow.user</th>\n",
       "      <th>tags.mlflow.runName</th>\n",
       "      <th>tags.mlflow.source.name</th>\n",
       "    </tr>\n",
       "  </thead>\n",
       "  <tbody>\n",
       "    <tr>\n",
       "      <th>0</th>\n",
       "      <td>73e60a22c67e4b438ad94686950aec6b</td>\n",
       "      <td>2</td>\n",
       "      <td>FINISHED</td>\n",
       "      <td>./mlruns/2/73e60a22c67e4b438ad94686950aec6b/ar...</td>\n",
       "      <td>2020-09-30 09:29:03.345000+00:00</td>\n",
       "      <td>2020-09-30 09:29:03.374000+00:00</td>\n",
       "      <td>7.0</td>\n",
       "      <td>10.0</td>\n",
       "      <td>3</td>\n",
       "      <td>18</td>\n",
       "      <td>LOCAL</td>\n",
       "      <td>gagampy</td>\n",
       "      <td>lasso</td>\n",
       "      <td>/home/gagampy/anaconda3/lib/python3.7/site-pac...</td>\n",
       "    </tr>\n",
       "  </tbody>\n",
       "</table>\n",
       "</div>"
      ],
      "text/plain": [
       "                             run_id experiment_id    status  \\\n",
       "0  73e60a22c67e4b438ad94686950aec6b             2  FINISHED   \n",
       "\n",
       "                                        artifact_uri  \\\n",
       "0  ./mlruns/2/73e60a22c67e4b438ad94686950aec6b/ar...   \n",
       "\n",
       "                        start_time                         end_time  \\\n",
       "0 2020-09-30 09:29:03.345000+00:00 2020-09-30 09:29:03.374000+00:00   \n",
       "\n",
       "   metrics.m1  metrics.m2 params.p1 params.p2 tags.mlflow.source.type  \\\n",
       "0         7.0        10.0         3        18                   LOCAL   \n",
       "\n",
       "  tags.mlflow.user tags.mlflow.runName  \\\n",
       "0          gagampy               lasso   \n",
       "\n",
       "                             tags.mlflow.source.name  \n",
       "0  /home/gagampy/anaconda3/lib/python3.7/site-pac...  "
      ]
     },
     "execution_count": 2,
     "metadata": {},
     "output_type": "execute_result"
    }
   ],
   "source": [
    "mlflow.set_tracking_uri('http://localhost:5000')\n",
    "mlflow.set_experiment('mlflow-testing-2')\n",
    "\n",
    "with mlflow.start_run(run_name=\"lasso\") as run:\n",
    "    mlflow.log_metrics({'m1': np.random.randint(0, 10), 'm2': np.random.randint(10, 20)})\n",
    "    mlflow.log_params({'p1': np.random.randint(0, 10), 'p2': np.random.randint(10, 20)})\n",
    "\n",
    "    \n",
    "runs_df = mlflow.search_runs('2')\n",
    "runs_df.loc[runs_df['tags.mlflow.runName']=='lasso']"
   ]
  },
  {
   "cell_type": "code",
   "execution_count": 3,
   "metadata": {},
   "outputs": [
    {
     "name": "stdout",
     "output_type": "stream",
     "text": [
      "[<Experiment: artifact_location='./mlruns/1', experiment_id='1', lifecycle_stage='active', name='rtn-title-len-regr', tags={}>, <Experiment: artifact_location='./mlruns/2', experiment_id='2', lifecycle_stage='active', name='mlflow-testing-2', tags={}>, <Experiment: artifact_location='./mlruns/0', experiment_id='0', lifecycle_stage='active', name='Default', tags={}>]\n"
     ]
    },
    {
     "name": "stderr",
     "output_type": "stream",
     "text": [
      "/home/gagampy/anaconda3/lib/python3.7/site-packages/ipykernel/ipkernel.py:287: DeprecationWarning: `should_run_async` will not call `transform_cell` automatically in the future. Please pass the result to `transformed_cell` argument and any exception that happen during thetransform in `preprocessing_exc_tuple` in IPython 7.17 and above.\n",
      "  and should_run_async(code)\n"
     ]
    }
   ],
   "source": [
    "print(mlflow.tracking.MlflowClient(tracking_uri='http://localhost:5000').list_experiments())"
   ]
  },
  {
   "cell_type": "code",
   "execution_count": 3,
   "metadata": {},
   "outputs": [
    {
     "data": {
      "text/plain": [
       "[<Experiment: artifact_location='./mlruns/1', experiment_id='1', lifecycle_stage='active', name='rtn-title-len-regr', tags={}>,\n",
       " <Experiment: artifact_location='./mlruns/0', experiment_id='0', lifecycle_stage='active', name='Default', tags={}>]"
      ]
     },
     "execution_count": 3,
     "metadata": {},
     "output_type": "execute_result"
    }
   ],
   "source": [
    "mlflow.tracking.MlflowClient('http://localhost:5000').list_experiments()"
   ]
  },
  {
   "cell_type": "code",
   "execution_count": 5,
   "metadata": {},
   "outputs": [],
   "source": [
    "df = mlflow.search_runs([1])"
   ]
  },
  {
   "cell_type": "code",
   "execution_count": 7,
   "metadata": {},
   "outputs": [
    {
     "name": "stderr",
     "output_type": "stream",
     "text": [
      "/home/gagampy/anaconda3/lib/python3.7/site-packages/ipykernel/ipkernel.py:287: DeprecationWarning: `should_run_async` will not call `transform_cell` automatically in the future. Please pass the result to `transformed_cell` argument and any exception that happen during thetransform in `preprocessing_exc_tuple` in IPython 7.17 and above.\n",
      "  and should_run_async(code)\n"
     ]
    },
    {
     "data": {
      "text/html": [
       "<div>\n",
       "<style scoped>\n",
       "    .dataframe tbody tr th:only-of-type {\n",
       "        vertical-align: middle;\n",
       "    }\n",
       "\n",
       "    .dataframe tbody tr th {\n",
       "        vertical-align: top;\n",
       "    }\n",
       "\n",
       "    .dataframe thead th {\n",
       "        text-align: right;\n",
       "    }\n",
       "</style>\n",
       "<table border=\"1\" class=\"dataframe\">\n",
       "  <thead>\n",
       "    <tr style=\"text-align: right;\">\n",
       "      <th></th>\n",
       "      <th>run_id</th>\n",
       "      <th>experiment_id</th>\n",
       "      <th>status</th>\n",
       "      <th>artifact_uri</th>\n",
       "      <th>start_time</th>\n",
       "      <th>end_time</th>\n",
       "      <th>metrics.mae_train</th>\n",
       "      <th>metrics.mae_val</th>\n",
       "      <th>params.learning_rate</th>\n",
       "      <th>params.n_estimators</th>\n",
       "      <th>params.alpha</th>\n",
       "      <th>tags.mlflow.user</th>\n",
       "      <th>tags.mlflow.runName</th>\n",
       "      <th>tags.mlflow.source.name</th>\n",
       "      <th>tags.mlflow.log-model.history</th>\n",
       "      <th>tags.mlflow.source.type</th>\n",
       "    </tr>\n",
       "  </thead>\n",
       "  <tbody>\n",
       "    <tr>\n",
       "      <th>0</th>\n",
       "      <td>dac78fa7b5d14327b21abe96a861ce62</td>\n",
       "      <td>1</td>\n",
       "      <td>FINISHED</td>\n",
       "      <td>./mlruns/1/dac78fa7b5d14327b21abe96a861ce62/ar...</td>\n",
       "      <td>2020-10-05 15:41:21.344000+00:00</td>\n",
       "      <td>2020-10-05 15:41:21.473000+00:00</td>\n",
       "      <td>0.879238</td>\n",
       "      <td>1.863456</td>\n",
       "      <td>0.776</td>\n",
       "      <td>150</td>\n",
       "      <td>None</td>\n",
       "      <td>user1000</td>\n",
       "      <td>GradientBoostingRegressor</td>\n",
       "      <td>src/train_models.py</td>\n",
       "      <td>[{\"run_id\": \"dac78fa7b5d14327b21abe96a861ce62\"...</td>\n",
       "      <td>LOCAL</td>\n",
       "    </tr>\n",
       "    <tr>\n",
       "      <th>1</th>\n",
       "      <td>4a4ea213486b48bcbaaf118cdc081bbb</td>\n",
       "      <td>1</td>\n",
       "      <td>FINISHED</td>\n",
       "      <td>./mlruns/1/4a4ea213486b48bcbaaf118cdc081bbb/ar...</td>\n",
       "      <td>2020-10-05 15:41:21.162000+00:00</td>\n",
       "      <td>2020-10-05 15:41:21.293000+00:00</td>\n",
       "      <td>0.862107</td>\n",
       "      <td>1.961073</td>\n",
       "      <td>0.978</td>\n",
       "      <td>150</td>\n",
       "      <td>None</td>\n",
       "      <td>user1000</td>\n",
       "      <td>GradientBoostingRegressor</td>\n",
       "      <td>src/train_models.py</td>\n",
       "      <td>[{\"run_id\": \"4a4ea213486b48bcbaaf118cdc081bbb\"...</td>\n",
       "      <td>LOCAL</td>\n",
       "    </tr>\n",
       "    <tr>\n",
       "      <th>2</th>\n",
       "      <td>a65b54e34a134df78ffc22680e95de17</td>\n",
       "      <td>1</td>\n",
       "      <td>FINISHED</td>\n",
       "      <td>./mlruns/1/a65b54e34a134df78ffc22680e95de17/ar...</td>\n",
       "      <td>2020-10-05 15:41:20.984000+00:00</td>\n",
       "      <td>2020-10-05 15:41:21.115000+00:00</td>\n",
       "      <td>0.943729</td>\n",
       "      <td>1.779734</td>\n",
       "      <td>0.504</td>\n",
       "      <td>150</td>\n",
       "      <td>None</td>\n",
       "      <td>user1000</td>\n",
       "      <td>GradientBoostingRegressor</td>\n",
       "      <td>src/train_models.py</td>\n",
       "      <td>[{\"run_id\": \"a65b54e34a134df78ffc22680e95de17\"...</td>\n",
       "      <td>LOCAL</td>\n",
       "    </tr>\n",
       "    <tr>\n",
       "      <th>3</th>\n",
       "      <td>a73d9ec61c5d4aeaa3206a9d397e4e39</td>\n",
       "      <td>1</td>\n",
       "      <td>FINISHED</td>\n",
       "      <td>./mlruns/1/a73d9ec61c5d4aeaa3206a9d397e4e39/ar...</td>\n",
       "      <td>2020-10-05 15:41:20.791000+00:00</td>\n",
       "      <td>2020-10-05 15:41:20.889000+00:00</td>\n",
       "      <td>1.026650</td>\n",
       "      <td>1.784155</td>\n",
       "      <td>0.649</td>\n",
       "      <td>75</td>\n",
       "      <td>None</td>\n",
       "      <td>user1000</td>\n",
       "      <td>GradientBoostingRegressor</td>\n",
       "      <td>src/train_models.py</td>\n",
       "      <td>[{\"run_id\": \"a73d9ec61c5d4aeaa3206a9d397e4e39\"...</td>\n",
       "      <td>LOCAL</td>\n",
       "    </tr>\n",
       "    <tr>\n",
       "      <th>4</th>\n",
       "      <td>aaa65881fd9e45dda7e17d819a98d931</td>\n",
       "      <td>1</td>\n",
       "      <td>FINISHED</td>\n",
       "      <td>./mlruns/1/aaa65881fd9e45dda7e17d819a98d931/ar...</td>\n",
       "      <td>2020-10-05 15:41:20.589000+00:00</td>\n",
       "      <td>2020-10-05 15:41:20.733000+00:00</td>\n",
       "      <td>0.840541</td>\n",
       "      <td>1.955019</td>\n",
       "      <td>0.9590000000000001</td>\n",
       "      <td>150</td>\n",
       "      <td>None</td>\n",
       "      <td>user1000</td>\n",
       "      <td>GradientBoostingRegressor</td>\n",
       "      <td>src/train_models.py</td>\n",
       "      <td>[{\"run_id\": \"aaa65881fd9e45dda7e17d819a98d931\"...</td>\n",
       "      <td>LOCAL</td>\n",
       "    </tr>\n",
       "  </tbody>\n",
       "</table>\n",
       "</div>"
      ],
      "text/plain": [
       "                             run_id experiment_id    status  \\\n",
       "0  dac78fa7b5d14327b21abe96a861ce62             1  FINISHED   \n",
       "1  4a4ea213486b48bcbaaf118cdc081bbb             1  FINISHED   \n",
       "2  a65b54e34a134df78ffc22680e95de17             1  FINISHED   \n",
       "3  a73d9ec61c5d4aeaa3206a9d397e4e39             1  FINISHED   \n",
       "4  aaa65881fd9e45dda7e17d819a98d931             1  FINISHED   \n",
       "\n",
       "                                        artifact_uri  \\\n",
       "0  ./mlruns/1/dac78fa7b5d14327b21abe96a861ce62/ar...   \n",
       "1  ./mlruns/1/4a4ea213486b48bcbaaf118cdc081bbb/ar...   \n",
       "2  ./mlruns/1/a65b54e34a134df78ffc22680e95de17/ar...   \n",
       "3  ./mlruns/1/a73d9ec61c5d4aeaa3206a9d397e4e39/ar...   \n",
       "4  ./mlruns/1/aaa65881fd9e45dda7e17d819a98d931/ar...   \n",
       "\n",
       "                        start_time                         end_time  \\\n",
       "0 2020-10-05 15:41:21.344000+00:00 2020-10-05 15:41:21.473000+00:00   \n",
       "1 2020-10-05 15:41:21.162000+00:00 2020-10-05 15:41:21.293000+00:00   \n",
       "2 2020-10-05 15:41:20.984000+00:00 2020-10-05 15:41:21.115000+00:00   \n",
       "3 2020-10-05 15:41:20.791000+00:00 2020-10-05 15:41:20.889000+00:00   \n",
       "4 2020-10-05 15:41:20.589000+00:00 2020-10-05 15:41:20.733000+00:00   \n",
       "\n",
       "   metrics.mae_train  metrics.mae_val params.learning_rate  \\\n",
       "0           0.879238         1.863456                0.776   \n",
       "1           0.862107         1.961073                0.978   \n",
       "2           0.943729         1.779734                0.504   \n",
       "3           1.026650         1.784155                0.649   \n",
       "4           0.840541         1.955019   0.9590000000000001   \n",
       "\n",
       "  params.n_estimators params.alpha tags.mlflow.user  \\\n",
       "0                 150         None         user1000   \n",
       "1                 150         None         user1000   \n",
       "2                 150         None         user1000   \n",
       "3                  75         None         user1000   \n",
       "4                 150         None         user1000   \n",
       "\n",
       "         tags.mlflow.runName tags.mlflow.source.name  \\\n",
       "0  GradientBoostingRegressor     src/train_models.py   \n",
       "1  GradientBoostingRegressor     src/train_models.py   \n",
       "2  GradientBoostingRegressor     src/train_models.py   \n",
       "3  GradientBoostingRegressor     src/train_models.py   \n",
       "4  GradientBoostingRegressor     src/train_models.py   \n",
       "\n",
       "                       tags.mlflow.log-model.history tags.mlflow.source.type  \n",
       "0  [{\"run_id\": \"dac78fa7b5d14327b21abe96a861ce62\"...                   LOCAL  \n",
       "1  [{\"run_id\": \"4a4ea213486b48bcbaaf118cdc081bbb\"...                   LOCAL  \n",
       "2  [{\"run_id\": \"a65b54e34a134df78ffc22680e95de17\"...                   LOCAL  \n",
       "3  [{\"run_id\": \"a73d9ec61c5d4aeaa3206a9d397e4e39\"...                   LOCAL  \n",
       "4  [{\"run_id\": \"aaa65881fd9e45dda7e17d819a98d931\"...                   LOCAL  "
      ]
     },
     "execution_count": 7,
     "metadata": {},
     "output_type": "execute_result"
    }
   ],
   "source": [
    "df.head()"
   ]
  },
  {
   "cell_type": "code",
   "execution_count": 22,
   "metadata": {},
   "outputs": [
    {
     "data": {
      "text/plain": [
       "array(['0.776', '0.978', '0.504', '0.649', '0.9590000000000001', '0.746',\n",
       "       '0.874', '0.651', '0.894', '0.723', '0.29', '0.922',\n",
       "       '0.47700000000000004', '0.638', '0.41500000000000004',\n",
       "       '0.34600000000000003', '0.122', '0.725', '0.28', '0.548', None,\n",
       "       None, None, None, None, None, None, None, None, None, None, None,\n",
       "       None, None, None, None, None, None, None, None], dtype=object)"
      ]
     },
     "execution_count": 22,
     "metadata": {},
     "output_type": "execute_result"
    }
   ],
   "source": [
    "df['params.learning_rate'].values"
   ]
  },
  {
   "cell_type": "code",
   "execution_count": 23,
   "metadata": {},
   "outputs": [
    {
     "name": "stderr",
     "output_type": "stream",
     "text": [
      "/home/gagampy/anaconda3/lib/python3.7/site-packages/ipykernel/ipkernel.py:287: DeprecationWarning: `should_run_async` will not call `transform_cell` automatically in the future. Please pass the result to `transformed_cell` argument and any exception that happen during thetransform in `preprocessing_exc_tuple` in IPython 7.17 and above.\n",
      "  and should_run_async(code)\n"
     ]
    },
    {
     "data": {
      "text/plain": [
       "True"
      ]
     },
     "execution_count": 23,
     "metadata": {},
     "output_type": "execute_result"
    }
   ],
   "source": [
    "'12312'.isalnum()"
   ]
  },
  {
   "cell_type": "code",
   "execution_count": null,
   "metadata": {},
   "outputs": [],
   "source": []
  },
  {
   "cell_type": "code",
   "execution_count": 19,
   "metadata": {},
   "outputs": [
    {
     "data": {
      "text/plain": [
       "20    1.603158\n",
       "21    1.602571\n",
       "22    1.598985\n",
       "23    1.602468\n",
       "24    1.600204\n",
       "25    1.602720\n",
       "26    1.602687\n",
       "27    1.592209\n",
       "28    1.603108\n",
       "29    1.602946\n",
       "30    1.596071\n",
       "31    1.603118\n",
       "32    1.602954\n",
       "33    1.602940\n",
       "34    1.602788\n",
       "35    1.603137\n",
       "36    1.597969\n",
       "37    1.603197\n",
       "38    1.603025\n",
       "39    1.602411\n",
       "Name: metrics.mae_val, dtype: float64"
      ]
     },
     "execution_count": 19,
     "metadata": {},
     "output_type": "execute_result"
    }
   ],
   "source": [
    "ldf[f\"metrics.mae_val\"]"
   ]
  },
  {
   "cell_type": "code",
   "execution_count": 10,
   "metadata": {},
   "outputs": [],
   "source": [
    "ldf = df.loc[df['tags.mlflow.runName'] == 'Lasso']"
   ]
  },
  {
   "cell_type": "code",
   "execution_count": 20,
   "metadata": {},
   "outputs": [
    {
     "data": {
      "text/plain": [
       "run_id                                            111820081e7d4e8eb3378b0e7284111f\n",
       "experiment_id                                                                    1\n",
       "status                                                                    FINISHED\n",
       "artifact_uri                     ./mlruns/1/111820081e7d4e8eb3378b0e7284111f/ar...\n",
       "start_time                                        2020-10-05 15:41:16.795000+00:00\n",
       "end_time                                          2020-10-05 15:41:16.848000+00:00\n",
       "metrics.mae_train                                                          1.52072\n",
       "metrics.mae_val                                                            1.59221\n",
       "params.learning_rate                                                          None\n",
       "params.n_estimators                                                           None\n",
       "params.alpha                                                  0.053000000000000005\n",
       "tags.mlflow.user                                                          user1000\n",
       "tags.mlflow.runName                                                          Lasso\n",
       "tags.mlflow.source.name                                        src/train_models.py\n",
       "tags.mlflow.log-model.history    [{\"run_id\": \"111820081e7d4e8eb3378b0e7284111f\"...\n",
       "tags.mlflow.source.type                                                      LOCAL\n",
       "Name: 27, dtype: object"
      ]
     },
     "execution_count": 20,
     "metadata": {},
     "output_type": "execute_result"
    }
   ],
   "source": [
    "ldf.loc[ldf[f\"metrics.mae_val\"].idxmin(axis=0)]"
   ]
  },
  {
   "cell_type": "code",
   "execution_count": 39,
   "metadata": {},
   "outputs": [
    {
     "name": "stderr",
     "output_type": "stream",
     "text": [
      "/home/gagampy/anaconda3/lib/python3.7/site-packages/ipykernel/ipkernel.py:287: DeprecationWarning: `should_run_async` will not call `transform_cell` automatically in the future. Please pass the result to `transformed_cell` argument and any exception that happen during thetransform in `preprocessing_exc_tuple` in IPython 7.17 and above.\n",
      "  and should_run_async(code)\n"
     ]
    }
   ],
   "source": [
    "from  mlflow.tracking import MlflowClient\n",
    "client = MlflowClient()"
   ]
  },
  {
   "cell_type": "code",
   "execution_count": 44,
   "metadata": {},
   "outputs": [
    {
     "data": {
      "text/plain": [
       "'4'"
      ]
     },
     "execution_count": 44,
     "metadata": {},
     "output_type": "execute_result"
    }
   ],
   "source": [
    "client.list_experiments()[0].experiment_id"
   ]
  },
  {
   "cell_type": "code",
   "execution_count": 1,
   "metadata": {},
   "outputs": [
    {
     "name": "stderr",
     "output_type": "stream",
     "text": [
      "/home/gagampy/anaconda3/lib/python3.7/importlib/_bootstrap.py:219: RuntimeWarning: numpy.ufunc size changed, may indicate binary incompatibility. Expected 192 from C header, got 216 from PyObject\n",
      "  return f(*args, **kwds)\n"
     ]
    }
   ],
   "source": [
    "import pandas as pd\n",
    "from sklearn.model_selection import train_test_split"
   ]
  },
  {
   "cell_type": "code",
   "execution_count": 4,
   "metadata": {},
   "outputs": [],
   "source": [
    "dataset = pd.read_csv('../2-RTN/data/feature_eng/dataset_fe.csv')"
   ]
  },
  {
   "cell_type": "code",
   "execution_count": 5,
   "metadata": {},
   "outputs": [],
   "source": [
    "train, test = train_test_split(dataset, train_size=0.6, random_state=420)"
   ]
  },
  {
   "cell_type": "code",
   "execution_count": 6,
   "metadata": {},
   "outputs": [],
   "source": [
    "test, val = train_test_split(test, train_size=0.5, random_state=420)"
   ]
  },
  {
   "cell_type": "code",
   "execution_count": 7,
   "metadata": {},
   "outputs": [
    {
     "data": {
      "text/plain": [
       "((600, 4), (200, 4), (200, 4))"
      ]
     },
     "execution_count": 7,
     "metadata": {},
     "output_type": "execute_result"
    }
   ],
   "source": [
    "train.shape, test.shape, val.shape"
   ]
  },
  {
   "cell_type": "code",
   "execution_count": 8,
   "metadata": {},
   "outputs": [],
   "source": [
    "train.to_csv('../2-RTN/data/split/train.csv', index=False)\n",
    "test.to_csv('../2-RTN/data/split/test.csv', index=False)\n",
    "val.to_csv('../2-RTN/data/split/val.csv', index=False)"
   ]
  },
  {
   "cell_type": "code",
   "execution_count": null,
   "metadata": {},
   "outputs": [],
   "source": []
  }
 ],
 "metadata": {
  "kernelspec": {
   "display_name": "Python 3",
   "language": "python",
   "name": "python3"
  },
  "language_info": {
   "codemirror_mode": {
    "name": "ipython",
    "version": 3
   },
   "file_extension": ".py",
   "mimetype": "text/x-python",
   "name": "python",
   "nbconvert_exporter": "python",
   "pygments_lexer": "ipython3",
   "version": "3.7.8"
  }
 },
 "nbformat": 4,
 "nbformat_minor": 4
}
